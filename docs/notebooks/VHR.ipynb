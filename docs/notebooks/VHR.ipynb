{
 "cells": [
  {
   "cell_type": "markdown",
   "id": "1a8ab2e1",
   "metadata": {},
   "source": [
    "# VHR example\n",
    "Let's use EOReader with Very High Resolution data.\n",
    "\n",
    "## Imports"
   ]
  },
  {
   "cell_type": "code",
   "execution_count": 1,
   "id": "fb4d6b22",
   "metadata": {
    "ExecuteTime": {
     "start_time": "2023-05-31T13:47:08.427668Z",
     "end_time": "2023-05-31T13:47:14.990920Z"
    }
   },
   "outputs": [],
   "source": [
    "import os\n",
    "\n",
    "# EOReader\n",
    "from eoreader.reader import Reader\n",
    "from eoreader.bands import GREEN, NDVI, TIR_1, CLOUDS, HILLSHADE, to_str\n",
    "from eoreader.env_vars import DEM_PATH"
   ]
  },
  {
   "cell_type": "markdown",
   "id": "b9d68f77",
   "metadata": {},
   "source": [
    "## Create the logger"
   ]
  },
  {
   "cell_type": "code",
   "execution_count": 2,
   "id": "2dba81a7",
   "metadata": {
    "ExecuteTime": {
     "start_time": "2023-05-31T13:47:14.994067Z",
     "end_time": "2023-05-31T13:47:14.998826Z"
    }
   },
   "outputs": [],
   "source": [
    "# Create logger\n",
    "import logging\n",
    "from sertit import logs\n",
    "\n",
    "logger = logging.getLogger(\"eoreader\")\n",
    "logs.init_logger(logger)"
   ]
  },
  {
   "cell_type": "markdown",
   "id": "dea17812",
   "metadata": {},
   "source": [
    "# Open the VHR product\n",
    "\n",
    "Please be aware that EOReader will always work in UTM projection.  \n",
    "So if you give WGS84 data, EOReader will reproject the stacks and this can be time-consuming"
   ]
  },
  {
   "cell_type": "code",
   "execution_count": 3,
   "id": "62e00730",
   "metadata": {
    "ExecuteTime": {
     "start_time": "2023-05-31T13:47:15.000919Z",
     "end_time": "2023-05-31T13:47:18.585489Z"
    }
   },
   "outputs": [
    {
     "data": {
      "text/plain": "eoreader.PldProduct 'PHR1A_PMS_202005110231585_ORT_5547047101'\nAttributes:\n\tcondensed_name: 20200511T023158_PLD_ORT_PMS_5547047101\n\tpath: /home/data/DATA/PRODS/PLEIADES/5547047101/IMG_PHR1A_PMS_001\n\tconstellation: Pleiades\n\tsensor type: Optical\n\tproduct type: Ortho Single Image\n\tdefault pixel size: 0.5\n\tdefault resolution: 0.5\n\tacquisition datetime: 2020-05-11T02:31:58\n\tband mapping:\n\t\tBLUE: 3\n\t\tGREEN: 2\n\t\tRED: 1\n\t\tNIR: 4\n\t\tNARROW_NIR: 4\n\tneeds extraction: False\n\tcloud cover: 0.0"
     },
     "execution_count": 3,
     "metadata": {},
     "output_type": "execute_result"
    }
   ],
   "source": [
    "# Set a DEM\n",
    "os.environ[DEM_PATH] = os.path.join(\n",
    "    \"/home\", \"data\", \"DS2\", \"BASES_DE_DONNEES\", \"GLOBAL\",\n",
    "    \"MERIT_Hydrologically_Adjusted_Elevations\", \"MERIT_DEM.vrt\"\n",
    ")\n",
    "\n",
    "# Open your product\n",
    "path = os.path.join(\"/home\", \"data\", \"DATA\", \"PRODS\", \"PLEIADES\", \"5547047101\", \"IMG_PHR1A_PMS_001\")\n",
    "reader = Reader()\n",
    "prod = reader.open(path, remove_tmp=True)\n",
    "prod"
   ]
  },
  {
   "cell_type": "code",
   "execution_count": 4,
   "id": "42ff3f09",
   "outputs": [],
   "source": [
    "# Plot the quicklook\n",
    "prod.plot()"
   ],
   "metadata": {
    "collapsed": false,
    "ExecuteTime": {
     "start_time": "2023-05-31T13:47:18.593371Z",
     "end_time": "2023-05-31T13:47:19.780211Z"
    },
    "pycharm": {
     "is_executing": true
    }
   }
  },
  {
   "cell_type": "code",
   "execution_count": 5,
   "id": "c4c1101d",
   "outputs": [
    {
     "data": {
      "text/plain": "eoreader.SpectralBand 'RED'\nAttributes:\n\tid: 1\n\teoreader_name: RED\n\tcommon_name: red\n\tgsd (m): 0.5\n\tasset_role: reflectance\n\tCenter wavelength (nm): 650.0\n\tBandwidth (nm): 120.0\neoreader.SpectralBand 'GREEN'\nAttributes:\n\tid: 2\n\teoreader_name: GREEN\n\tcommon_name: green\n\tgsd (m): 0.5\n\tasset_role: reflectance\n\tCenter wavelength (nm): 560.0\n\tBandwidth (nm): 120.0\neoreader.SpectralBand 'BLUE'\nAttributes:\n\tid: 3\n\teoreader_name: BLUE\n\tcommon_name: blue\n\tgsd (m): 0.5\n\tasset_role: reflectance\n\tCenter wavelength (nm): 495.0\n\tBandwidth (nm): 70.0\neoreader.SpectralBand 'NIR'\nAttributes:\n\tid: 4\n\teoreader_name: NIR\n\tcommon_name: nir\n\tgsd (m): 0.5\n\tasset_role: reflectance\n\tCenter wavelength (nm): 840.0\n\tBandwidth (nm): 200.0\neoreader.SpectralBand 'NIR'\nAttributes:\n\tid: 4\n\teoreader_name: NIR\n\tcommon_name: nir\n\tgsd (m): 0.5\n\tasset_role: reflectance\n\tCenter wavelength (nm): 840.0\n\tBandwidth (nm): 200.0"
     },
     "execution_count": 5,
     "metadata": {},
     "output_type": "execute_result"
    }
   ],
   "source": [
    "# Get the bands information\n",
    "prod.bands"
   ],
   "metadata": {
    "collapsed": false,
    "ExecuteTime": {
     "start_time": "2023-05-31T13:47:19.780083Z",
     "end_time": "2023-05-31T13:47:19.780763Z"
    }
   }
  },
  {
   "cell_type": "code",
   "execution_count": 6,
   "id": "c568a5f9",
   "metadata": {
    "scrolled": false,
    "ExecuteTime": {
     "start_time": "2023-05-31T13:47:19.781290Z",
     "end_time": "2023-05-31T13:47:19.792234Z"
    }
   },
   "outputs": [
    {
     "name": "stdout",
     "output_type": "stream",
     "text": [
      "Acquisition datetime: 2020-05-11 02:31:58\n",
      "Condensed name: 20200511T023158_PLD_ORT_PMS_5547047101\n"
     ]
    }
   ],
   "source": [
    "print(f\"Acquisition datetime: {prod.datetime}\")\n",
    "print(f\"Condensed name: {prod.condensed_name}\")"
   ]
  },
  {
   "cell_type": "code",
   "execution_count": 7,
   "id": "481d7bed",
   "metadata": {
    "scrolled": true,
    "ExecuteTime": {
     "start_time": "2023-05-31T13:47:19.787559Z",
     "end_time": "2023-05-31T13:47:20.416899Z"
    }
   },
   "outputs": [
    {
     "data": {
      "text/plain": "<Axes: >"
     },
     "execution_count": 7,
     "metadata": {},
     "output_type": "execute_result"
    },
    {
     "data": {
      "text/plain": "<Figure size 640x480 with 1 Axes>",
      "image/png": "[encoded data removed]"
     },
     "metadata": {},
     "output_type": "display_data"
    }
   ],
   "source": [
    "# Open here some more interesting geographical data: extent and footprint\n",
    "extent = prod.extent()\n",
    "footprint = prod.footprint()\n",
    "\n",
    "base = extent.plot(color='cyan', edgecolor='black')\n",
    "footprint.plot(ax=base, color='blue', edgecolor='black', alpha=0.5)"
   ]
  },
  {
   "cell_type": "markdown",
   "id": "9b5add7d",
   "metadata": {},
   "source": [
    "Here, if you want to orthorectify or pansharpen your data manually, you can set your stack here.\n",
    "\n",
    "```python\n",
    "prod.ortho_stack = \"/path/to/ortho_stack.tif\"\n",
    "```\n",
    "\n",
    "If you do not provide this stack, but you give a non-orthorectified product to EOReader\n",
    "(i.e. `SEN` or `PRJ` products for Pleiades), you must provide a DEM to orthorectify correctly the data.\n",
    "\n",
    "⚠⚠⚠\n",
    "DIMAP SEN products are orthorectified using RPCs and not the rigorous sensor model.\n",
    "A shift of several meters can occur.\n",
    "Please refer to [this issue](https://github.com/sertit/eoreader/issues/53).\n",
    "\n",
    "\n",
    "## Load some bands"
   ]
  },
  {
   "cell_type": "code",
   "execution_count": 8,
   "id": "a122e342",
   "metadata": {
    "ExecuteTime": {
     "start_time": "2023-05-31T13:47:20.406782Z",
     "end_time": "2023-05-31T13:47:20.440689Z"
    }
   },
   "outputs": [
    {
     "name": "stdout",
     "output_type": "stream",
     "text": [
      "['GREEN', 'NDVI', 'CLOUDS', 'HILLSHADE']\n"
     ]
    }
   ],
   "source": [
    "# Select the bands you want to load\n",
    "bands = [GREEN, NDVI, TIR_1, CLOUDS, HILLSHADE]\n",
    "\n",
    "# Be sure they exist for Pleiades sensor\n",
    "ok_bands = [band for band in bands if prod.has_band(band)]\n",
    "print(to_str(ok_bands))  # Pleiades doesn't provide TIR and SHADOWS bands"
   ]
  },
  {
   "cell_type": "code",
   "execution_count": null,
   "id": "62873f96",
   "metadata": {
    "scrolled": true,
    "pycharm": {
     "is_executing": true
    }
   },
   "outputs": [
    {
     "name": "stderr",
     "output_type": "stream",
     "text": [
      "2023-05-31 11:47:20,447 - [DEBUG] - Loading bands ['GREEN', 'NIR', 'RED']\n",
      "2023-05-31 11:47:20,453 - [DEBUG] - Read GREEN\n",
      "2023-05-31 11:47:20,573 - [INFO] - Warping DIM_PHR1A_PMS_202005110231585_ORT_5547047101 to UTM with a 0.5 m pixel size.\n",
      "2023-05-31 11:47:20,844 - [DEBUG] - Reading warped GREEN.\n",
      "2023-05-31 11:47:21,261 - [DEBUG] - Manage nodata for band GREEN\n",
      "2023-05-31 11:47:28,021 - [DEBUG] - Converting GREEN to reflectance\n",
      "2023-05-31 11:58:09,959 - [DEBUG] - Read NIR\n",
      "2023-05-31 11:58:10,429 - [INFO] - Warping DIM_PHR1A_PMS_202005110231585_ORT_5547047101 to UTM with a 0.5 m pixel size.\n",
      "2023-05-31 11:58:10,550 - [DEBUG] - Reading warped NIR.\n",
      "2023-05-31 11:58:11,231 - [DEBUG] - Manage nodata for band NIR\n",
      "2023-05-31 11:58:12,656 - [DEBUG] - Converting NIR to reflectance\n",
      "2023-05-31 11:59:40,816 - [DEBUG] - Read RED\n",
      "2023-05-31 11:59:40,902 - [INFO] - Warping DIM_PHR1A_PMS_202005110231585_ORT_5547047101 to UTM with a 0.5 m pixel size.\n",
      "2023-05-31 11:59:40,964 - [DEBUG] - Reading warped RED.\n",
      "2023-05-31 11:59:41,016 - [DEBUG] - Manage nodata for band RED\n",
      "2023-05-31 11:59:42,395 - [DEBUG] - Converting RED to reflectance\n"
     ]
    }
   ],
   "source": [
    "# Load those bands as a xarray.Dataset\n",
    "band_ds = prod.load(ok_bands)\n",
    "band_ds[GREEN]"
   ]
  },
  {
   "cell_type": "code",
   "execution_count": null,
   "id": "1f27e722",
   "metadata": {
    "pycharm": {
     "is_executing": true
    }
   },
   "outputs": [],
   "source": [
    "# The nan corresponds to the nodata you see on the footprint\n",
    "# Plot a subsampled version\n",
    "band_ds[GREEN][:, ::10, ::10].plot()"
   ]
  },
  {
   "cell_type": "code",
   "execution_count": null,
   "id": "b89c261f",
   "metadata": {
    "pycharm": {
     "is_executing": true
    }
   },
   "outputs": [],
   "source": [
    "# Plot a subsampled version\n",
    "band_ds[NDVI][:, ::10, ::10].plot()"
   ]
  },
  {
   "cell_type": "code",
   "execution_count": null,
   "id": "9ab63653",
   "metadata": {
    "pycharm": {
     "is_executing": true
    }
   },
   "outputs": [],
   "source": [
    "# Plot a subsampled version\n",
    "band_ds[CLOUDS][:, ::10, ::10].plot()"
   ]
  },
  {
   "cell_type": "code",
   "execution_count": null,
   "id": "2823e27a",
   "metadata": {
    "scrolled": true,
    "pycharm": {
     "is_executing": true
    }
   },
   "outputs": [],
   "source": [
    "# Plot a subsampled version\n",
    "band_ds[HILLSHADE][:, ::10, ::10].plot()"
   ]
  },
  {
   "cell_type": "markdown",
   "id": "0a6cc755",
   "metadata": {},
   "source": [
    "## Stack some bands"
   ]
  },
  {
   "cell_type": "code",
   "execution_count": null,
   "id": "331e9088",
   "metadata": {
    "pycharm": {
     "is_executing": true
    }
   },
   "outputs": [],
   "source": [
    "# You can also stack those bands\n",
    "stack = prod.stack(ok_bands)"
   ]
  },
  {
   "cell_type": "code",
   "execution_count": null,
   "id": "69813b6d",
   "metadata": {
    "pycharm": {
     "is_executing": true
    }
   },
   "outputs": [],
   "source": [
    "# Plot a subsampled version\n",
    "import matplotlib.pyplot as plt\n",
    "\n",
    "nrows = len(stack)\n",
    "fig, axes = plt.subplots(nrows=nrows, figsize=(2 * nrows, 6 * nrows), subplot_kw={\"box_aspect\": 1})\n",
    "\n",
    "for i in range(nrows):\n",
    "    stack[i, ::10, ::10].plot(x=\"x\", y=\"y\", ax=axes[i])"
   ]
  }
 ],
 "metadata": {
  "kernelspec": {
   "display_name": "Python 3 (ipykernel)",
   "language": "python",
   "name": "python3"
  },
  "language_info": {
   "codemirror_mode": {
    "name": "ipython",
    "version": 3
   },
   "file_extension": ".py",
   "mimetype": "text/x-python",
   "name": "python",
   "nbconvert_exporter": "python",
   "pygments_lexer": "ipython3",
   "version": "3.9.10"
  },
  "metadata": {
   "execution": {
    "timeout": -1
   }
  }
 },
 "nbformat": 4,
 "nbformat_minor": 5
}
