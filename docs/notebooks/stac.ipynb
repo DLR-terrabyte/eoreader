{
 "cells": [
  {
   "cell_type": "markdown",
   "id": "1a8ab2e1",
   "metadata": {},
   "source": [
    "# STAC\n",
    "Let's use EOReader to create [SpatioTemporal Asset Catalog (STAC)](https://stacspec.org/) items.\n",
    "\n",
    "<div class=\"alert alert-info\">\n",
    "  \n",
    "   <strong>Note:</strong> This is experimental for now, use it at your own risk !\n",
    "    \n",
    "</div>\n",
    "\n",
    "<div class=\"alert alert-warning\">\n",
    "  \n",
    "<strong>Warning:</strong>\n",
    "You will need to install <a href=\"https://pystac.readthedocs.io/en/stable/\"><code>pystac[validation]</code></a>,\n",
    "<a href=\"https://python-visualization.github.io/folium/\"><code>folium</code></a>\n",
    "and <a href=\"https://eodag.readthedocs.io/en/stable/\"><code>eodag</code></a> (version != 2.6.0) to run this notebook\n",
    "    \n",
    "</div>"
   ]
  },
  {
   "cell_type": "code",
   "execution_count": null,
   "outputs": [],
   "source": [],
   "metadata": {
    "collapsed": false
   }
  },
  {
   "cell_type": "markdown",
   "id": "f8c3f849",
   "metadata": {},
   "source": [
    "## Imports"
   ]
  },
  {
   "cell_type": "code",
   "execution_count": 8,
   "id": "24919c6c",
   "metadata": {
    "scrolled": true,
    "ExecuteTime": {
     "start_time": "2023-04-27T09:20:31.393073Z",
     "end_time": "2023-04-27T09:20:31.467790Z"
    }
   },
   "outputs": [],
   "source": [
    "# Imports\n",
    "import os\n",
    "\n",
    "import pystac\n",
    "import geopandas as gpd\n",
    "from tempfile import TemporaryDirectory\n",
    "from shapely.geometry import mapping\n",
    "\n",
    "from eodag import setup_logging\n",
    "from eodag.api.core import EODataAccessGateway\n",
    "\n",
    "from eoreader.reader import Reader"
   ]
  },
  {
   "cell_type": "markdown",
   "id": "ac4f9267",
   "metadata": {},
   "source": [
    "## Create logger"
   ]
  },
  {
   "cell_type": "code",
   "execution_count": 9,
   "id": "67d01536",
   "metadata": {
    "scrolled": true,
    "ExecuteTime": {
     "start_time": "2023-04-27T09:20:31.400979Z",
     "end_time": "2023-04-27T09:20:31.468831Z"
    }
   },
   "outputs": [],
   "source": [
    "# Create logger\n",
    "import logging\n",
    "from sertit import logs\n",
    "\n",
    "logger = logging.getLogger(\"eoreader\")\n",
    "logs.init_logger(logger)"
   ]
  },
  {
   "cell_type": "markdown",
   "id": "5f1d458f",
   "metadata": {},
   "source": [
    "## Linking some data \n",
    "\n",
    "Let's take 3 products covering approximately the same area (over DAX city in France):\n",
    "- One Landsat-8 OLI-TIRS collection 2\n",
    "- One Landsat-5 TM collection 2\n",
    "- One Sentinel-2 L1C"
   ]
  },
  {
   "cell_type": "code",
   "execution_count": 10,
   "id": "8cf0171b",
   "metadata": {
    "scrolled": true,
    "ExecuteTime": {
     "start_time": "2023-04-27T09:20:31.411435Z",
     "end_time": "2023-04-27T09:20:31.514128Z"
    }
   },
   "outputs": [],
   "source": [
    "prod_folder = os.path.join(\"/home\", \"data\", \"DATA\", \"PRODS\")\n",
    "paths = [\n",
    "    # Landsat-8 OLI-TIRS collection 2\n",
    "    os.path.join(prod_folder, \"LANDSATS_COL2\", \"LC08_L1TP_200030_20201220_20210310_02_T1.tar\"),\n",
    "    # Landsat-5 TM collection 2    \n",
    "    os.path.join(prod_folder, \"LANDSATS_COL2\", \"LT05_L1TP_200030_20111110_20200820_02_T1.tar\"),\n",
    "    # Sentinel-2 L2A\n",
    "    os.path.join(prod_folder, \"S2\", \"PB 02.07+\", \"S2A_MSIL1C_20191215T110441_N0208_R094_T30TXP_20191215T114155.SAFE\"),\n",
    "]"
   ]
  },
  {
   "cell_type": "markdown",
   "id": "84ac5591",
   "metadata": {},
   "source": [
    "## Create STAC catalog\n",
    "Create a STAC catalog and add 3 STAC items to it."
   ]
  },
  {
   "cell_type": "code",
   "execution_count": 11,
   "id": "00924896",
   "metadata": {
    "scrolled": true,
    "ExecuteTime": {
     "start_time": "2023-04-27T09:20:31.442385Z",
     "end_time": "2023-04-27T09:20:31.522128Z"
    }
   },
   "outputs": [],
   "source": [
    "# Create the reader\n",
    "reader = Reader()\n",
    "\n",
    "# Work in a temporary directory\n",
    "tmp = TemporaryDirectory()"
   ]
  },
  {
   "cell_type": "code",
   "execution_count": 12,
   "id": "8bd49e91",
   "metadata": {
    "ExecuteTime": {
     "start_time": "2023-04-27T09:20:31.447385Z",
     "end_time": "2023-04-27T09:20:31.528128Z"
    }
   },
   "outputs": [],
   "source": [
    "# Create STAC catalog\n",
    "catalog_path = os.path.join(tmp.name, \"catalog.json\")\n",
    "catalog = pystac.Catalog(\n",
    "    id='SERTIT_101',\n",
    "    description=\"SERTIT's Catalog\",\n",
    "    title='SERTIT Catalog',\n",
    "    href=catalog_path\n",
    ")"
   ]
  },
  {
   "cell_type": "code",
   "execution_count": 13,
   "id": "e6ca3360",
   "metadata": {
    "ExecuteTime": {
     "start_time": "2023-04-27T09:20:31.457301Z",
     "end_time": "2023-04-27T09:20:35.925274Z"
    }
   },
   "outputs": [
    {
     "name": "stderr",
     "output_type": "stream",
     "text": [
      "2023-04-27 07:20:31,461 - [INFO] - *** LC08_L1TP_200030_20201220_20210310_02_T1.tar ***\n",
      "2023-04-27 07:20:32,974 - [WARNING] - No quicklook found in 20201220T104856_L8_200030_OLI_TIRS\n",
      "2023-04-27 07:20:33,068 - [INFO] - *** LT05_L1TP_200030_20111110_20200820_02_T1.tar ***\n",
      "2023-04-27 07:20:34,703 - [INFO] - *** S2A_MSIL1C_20191215T110441_N0208_R094_T30TXP_20191215T114155.SAFE ***\n"
     ]
    }
   ],
   "source": [
    "# Add all the products into the STAC catalog\n",
    "for path in paths:\n",
    "    logger.info(f\"*** {os.path.basename(path)} ***\")\n",
    "\n",
    "    # Open the product\n",
    "    prod = reader.open(path, remove_tmp=True)\n",
    "\n",
    "    # Get item\n",
    "    item = prod.stac.create_item()\n",
    "\n",
    "    # Add item to catalogue\n",
    "    catalog.add_item(item)"
   ]
  },
  {
   "cell_type": "code",
   "execution_count": 14,
   "id": "ed7e59bd",
   "metadata": {
    "scrolled": false
   },
   "outputs": [
    {
     "ename": "ModuleNotFoundError",
     "evalue": "No module named 'pydev_jupyter_utils'",
     "output_type": "error",
     "traceback": [
      "\u001B[0;31m---------------------------------------------------------------------------\u001B[0m",
      "\u001B[0;31mModuleNotFoundError\u001B[0m                       Traceback (most recent call last)",
      "Cell \u001B[0;32mIn[15], line 6\u001B[0m\n\u001B[1;32m      4\u001B[0m     sys\u001B[38;5;241m.\u001B[39mpath\u001B[38;5;241m.\u001B[39minsert(\u001B[38;5;241m0\u001B[39m, \u001B[38;5;124m'\u001B[39m\u001B[38;5;124mC:\u001B[39m\u001B[38;5;130;01m\\\\\u001B[39;00m\u001B[38;5;124mProgram Files\u001B[39m\u001B[38;5;130;01m\\\\\u001B[39;00m\u001B[38;5;124mJetBrains\u001B[39m\u001B[38;5;130;01m\\\\\u001B[39;00m\u001B[38;5;124mPyCharm 2023.1\u001B[39m\u001B[38;5;130;01m\\\\\u001B[39;00m\u001B[38;5;124mplugins\u001B[39m\u001B[38;5;130;01m\\\\\u001B[39;00m\u001B[38;5;124mpython\u001B[39m\u001B[38;5;130;01m\\\\\u001B[39;00m\u001B[38;5;124mhelpers\u001B[39m\u001B[38;5;130;01m\\\\\u001B[39;00m\u001B[38;5;124mpydev\u001B[39m\u001B[38;5;124m'\u001B[39m)\n\u001B[1;32m      5\u001B[0m     sys\u001B[38;5;241m.\u001B[39mpath\u001B[38;5;241m.\u001B[39minsert(\u001B[38;5;241m0\u001B[39m, \u001B[38;5;124m'\u001B[39m\u001B[38;5;124mC:\u001B[39m\u001B[38;5;130;01m\\\\\u001B[39;00m\u001B[38;5;124mProgram Files\u001B[39m\u001B[38;5;130;01m\\\\\u001B[39;00m\u001B[38;5;124mJetBrains\u001B[39m\u001B[38;5;130;01m\\\\\u001B[39;00m\u001B[38;5;124mPyCharm 2023.1\u001B[39m\u001B[38;5;130;01m\\\\\u001B[39;00m\u001B[38;5;124mplugins\u001B[39m\u001B[38;5;130;01m\\\\\u001B[39;00m\u001B[38;5;124mpython\u001B[39m\u001B[38;5;130;01m\\\\\u001B[39;00m\u001B[38;5;124mhelpers-pro\u001B[39m\u001B[38;5;130;01m\\\\\u001B[39;00m\u001B[38;5;124mjupyter_debug\u001B[39m\u001B[38;5;124m'\u001B[39m)\n\u001B[0;32m----> 6\u001B[0m \u001B[38;5;28;01mfrom\u001B[39;00m \u001B[38;5;21;01mpydev_jupyter_utils\u001B[39;00m \u001B[38;5;28;01mimport\u001B[39;00m remove_imported_pydev_package\n\u001B[1;32m      7\u001B[0m remove_imported_pydev_package()\n\u001B[1;32m      8\u001B[0m \u001B[38;5;28;01mimport\u001B[39;00m \u001B[38;5;21;01mpydev_jupyter_utils\u001B[39;00m\n",
      "\u001B[0;31mModuleNotFoundError\u001B[0m: No module named 'pydev_jupyter_utils'"
     ]
    }
   ],
   "source": [
    "# Save catalog\n",
    "catalog.describe()\n",
    "catalog.normalize_and_save(tmp.name, catalog_type=pystac.CatalogType.SELF_CONTAINED)"
   ]
  },
  {
   "cell_type": "code",
   "execution_count": 19,
   "outputs": [
    {
     "data": {
      "text/plain": "<Item id=20201220T104856_L8_200030_OLI_TIRS>",
      "text/html": "\n\n<div class=\"jp-RenderedHTMLCommon jp-RenderedHTML jp-mod-trusted jp-OutputArea-output\">\n    <div style=\"\n        width: 24px;\n        height: 24px;\n        background-color: #DBF5FF;\n        border: 3px solid #4CC9FF;\n        border-radius: 5px;\n        position: absolute;\">\n    </div>\n    <div>\n        <details style=\"margin-left: 48px;\">\n            <summary style=\"margin-bottom: 20px;\">\n                <h3 style=\"margin-bottom: 0px; display: inline;\">Item: 20201220T104856_L8_200030_OLI_TIRS</h3>\n            </summary>\n            <table style=\"width: 100%; text-align: left;\">\n                <tr><td style=\"text-align: left;\"><strong>id:</strong> 20201220T104856_L8_200030_OLI_TIRS </td></tr>\n                \n                    <tr><td style=\"text-align: left;\"><strong>bbox:</strong> [-2.744857724803896, 42.09665285173287, 0.14785265624107427, 44.2467651307631] </td></tr>\n                \n                \n                    \n                        <tr><td style=\"text-align: left;\"><strong>tilename:</strong> 200030 </td></tr>\n                    \n                        <tr><td style=\"text-align: left;\"><strong>eo:cloud_cover:</strong> 16.36 </td></tr>\n                    \n                        <tr><td style=\"text-align: left;\"><strong>proj:epsg:</strong> 32630 </td></tr>\n                    \n                        <tr><td style=\"text-align: left;\"><strong>proj:wkt2:</strong> PROJCS[\"WGS 84 / UTM zone 30N\",GEOGCS[\"WGS 84\",DATUM[\"WGS_1984\",SPHEROID[\"WGS 84\",6378137,298.257223563,AUTHORITY[\"EPSG\",\"7030\"]],AUTHORITY[\"EPSG\",\"6326\"]],PRIMEM[\"Greenwich\",0,AUTHORITY[\"EPSG\",\"8901\"]],UNIT[\"degree\",0.0174532925199433,AUTHORITY[\"EPSG\",\"9122\"]],AUTHORITY[\"EPSG\",\"4326\"]],PROJECTION[\"Transverse_Mercator\"],PARAMETER[\"latitude_of_origin\",0],PARAMETER[\"central_meridian\",-3],PARAMETER[\"scale_factor\",0.9996],PARAMETER[\"false_easting\",500000],PARAMETER[\"false_northing\",0],UNIT[\"metre\",1,AUTHORITY[\"EPSG\",\"9001\"]],AXIS[\"Easting\",EAST],AXIS[\"Northing\",NORTH],AUTHORITY[\"EPSG\",\"32630\"]] </td></tr>\n                    \n                        <tr><td style=\"text-align: left;\"><strong>proj:geometry:</strong> {'type': 'Polygon', 'coordinates': (((704535.0, 4665915.0), (703755.0, 4666095.0), (690465.0, 4669185.0), (630855.0, 4683045.0), (526215.0, 4707375.0), (523635.0, 4707975.0), (523125.0, 4708095.0), (523005.0, 4708125.0), (522945.0, 4708155.0), (522945.0, 4708275.0), (522975.0, 4708425.0), (523185.0, 4709355.0), (566355.0, 4898205.0), (566445.0, 4898595.0), (566475.0, 4898715.0), (566505.0, 4898715.0), (567045.0, 4898595.0), (567975.0, 4898385.0), (573405.0, 4897155.0), (586515.0, 4894185.0), (697485.0, 4869045.0), (748335.0, 4857525.0), (748575.0, 4857465.0), (748575.0, 4857375.0), (748455.0, 4856835.0), (747285.0, 4851675.0), (747135.0, 4851015.0), (745305.0, 4842975.0), (744675.0, 4840215.0), (742125.0, 4829055.0), (741315.0, 4825515.0), (739995.0, 4819755.0), (738825.0, 4814655.0), (729945.0, 4775955.0), (705225.0, 4668735.0), (704685.0, 4666395.0), (704565.0, 4665915.0), (704535.0, 4665915.0)),)} </td></tr>\n                    \n                        <tr><td style=\"text-align: left;\"><strong>proj:bbox:</strong> [521085.0, 4664985.0, 751515.0, 4899315.0] </td></tr>\n                    \n                        <tr><td style=\"text-align: left;\"><strong>proj:centroid:</strong> {'lat': 43.183607660455536, 'lon': -1.3295876133318103} </td></tr>\n                    \n                        <tr><td style=\"text-align: left;\"><strong>proj:shape:</strong> [7811, 7681] </td></tr>\n                    \n                        <tr><td style=\"text-align: left;\"><strong>proj:transform:</strong> | 30.00, 0.00, 521085.00|\n| 0.00,-30.00, 4899315.00|\n| 0.00, 0.00, 1.00| </td></tr>\n                    \n                        <tr><td style=\"text-align: left;\"><strong>view:sun_azimuth:</strong> 161.76832577 </td></tr>\n                    \n                        <tr><td style=\"text-align: left;\"><strong>view:sun_elevation:</strong> 68.76909132 </td></tr>\n                    \n                        <tr><td style=\"text-align: left;\"><strong>title:</strong> 20201220T104856_L8_200030_OLI_TIRS </td></tr>\n                    \n                        <tr><td style=\"text-align: left;\"><strong>created:</strong> 2023-04-27T07:20:33.043775Z </td></tr>\n                    \n                        <tr><td style=\"text-align: left;\"><strong>updated:</strong> 2023-04-27T07:20:33.043784Z </td></tr>\n                    \n                        <tr><td style=\"text-align: left;\"><strong>start_datetime:</strong> 2020-12-20T10:48:56Z </td></tr>\n                    \n                        <tr><td style=\"text-align: left;\"><strong>end_datetime:</strong> 2020-12-20T10:48:56Z </td></tr>\n                    \n                        <tr><td style=\"text-align: left;\"><strong>instruments:</strong> ['OLI-TIRS'] </td></tr>\n                    \n                        <tr><td style=\"text-align: left;\"><strong>constellation:</strong> landsat-8 </td></tr>\n                    \n                        <tr><td style=\"text-align: left;\"><strong>gsd:</strong> 30.0 </td></tr>\n                    \n                        <tr><td style=\"text-align: left;\"><strong>datetime:</strong> 2020-12-20T10:48:56Z </td></tr>\n                    \n                \n                \n            </table>\n            \n        <details>\n            <summary style=\"margin-bottom: 10px; margin-top: 10px;\">\n                <h4 style=\"margin-bottom: 0px; display: inline;\">STAC Extensions</h4>\n            </summary>\n            <table style=\"width: 100%; text-align: left;\">\n                \n                    <tr><td style=\"text-align: left;\"><a href=\"https://stac-extensions.github.io/eo/v1.0.0/schema.json\">https://stac-extensions.github.io/eo/v1.0.0/schema.json</a></td></tr>\n                \n                    <tr><td style=\"text-align: left;\"><a href=\"https://stac-extensions.github.io/projection/v1.1.0/schema.json\">https://stac-extensions.github.io/projection/v1.1.0/schema.json</a></td></tr>\n                \n                    <tr><td style=\"text-align: left;\"><a href=\"https://stac-extensions.github.io/view/v1.0.0/schema.json\">https://stac-extensions.github.io/view/v1.0.0/schema.json</a></td></tr>\n                \n            </table>\n        </details>\n    \n            \n        <details>\n            <summary style=\"margin-bottom: 10px; margin-top: 10px;\">\n                <h4 style=\"margin-bottom: 0px; display: inline;\">Assets</h4>\n            </summary>\n            \n                \n\n<div class=\"jp-RenderedHTMLCommon jp-RenderedHTML jp-mod-trusted jp-OutputArea-output\">\n    <div style=\"\n        width: 24px;\n        height: 24px;\n        background-color: #FED7E5;\n        border: 3px solid #FA4C8C;\n        border-radius: 5px;\n        position: absolute;\">\n    </div>\n    <div>\n        <details style=\"margin-left: 48px;\">\n            <summary style=\"margin-bottom: 20px;\">\n                <h3 style=\"margin-bottom: 0px; display: inline;\">Asset:  Coastal aerosol </h3>\n            </summary>\n            <table style=\"width: 100%; text-align: left;\">\n                <tr><td style=\"text-align: left;\"><strong>href:</strong> tar+file:///home/data/DATA/PRODS/LANDSATS_COL2/LC08_L1TP_200030_20201220_20210310_02_T1.tar!LC08_L1TP_200030_20201220_20210310_02_T1_B1.TIF </td></tr>\n                \n                    <tr><td style=\"text-align: left;\"><strong>type:</strong> image/tiff; application=geotiff </td></tr>\n                \n                \n                    <tr><td style=\"text-align: left;\"><strong>title:</strong> Coastal aerosol </td></tr>\n                \n                \n                    <tr><td style=\"text-align: left;\"><strong>description:</strong> Coastal and aerosol studies </td></tr>\n                \n                \n                    <tr><td style=\"text-align: left;\"><strong>roles:</strong> ['reflectance'] </td></tr>\n                \n                \n                    <tr><td style=\"text-align: left;\"><strong>owner:</strong> 20201220T104856_L8_200030_OLI_TIRS </td></tr>\n                \n                \n        \n            \n                <tr><td style=\"text-align: left;\"><strong>eoreader_name:</strong> COASTAL_AEROSOL </td></tr>\n            \n        \n            \n                <tr><td style=\"text-align: left;\"><strong>eo:bands:</strong> [{'name': 'Coastal aerosol', 'common_name': 'coastal', 'description': 'Coastal and aerosol studies', 'center_wavelength': 0.44, 'full_width_half_max': 0.02}] </td></tr>\n            \n        \n            \n                <tr><td style=\"text-align: left;\"><strong>created:</strong> 2023-04-27T07:20:33.043113Z </td></tr>\n            \n        \n            \n                <tr><td style=\"text-align: left;\"><strong>updated:</strong> 2023-04-27T07:20:33.043140Z </td></tr>\n            \n        \n            \n                <tr><td style=\"text-align: left;\"><strong>start_datetime:</strong> 2020-12-20T10:48:56Z </td></tr>\n            \n        \n            \n                <tr><td style=\"text-align: left;\"><strong>end_datetime:</strong> 2020-12-20T10:48:56Z </td></tr>\n            \n        \n            \n                <tr><td style=\"text-align: left;\"><strong>instruments:</strong> ['OLI-TIRS'] </td></tr>\n            \n        \n            \n                <tr><td style=\"text-align: left;\"><strong>constellation:</strong> landsat-8 </td></tr>\n            \n        \n            \n                <tr><td style=\"text-align: left;\"><strong>gsd:</strong> 30 </td></tr>\n            \n        \n    \n            </table>\n        </details>\n    </div>\n</div>\n            \n                \n\n<div class=\"jp-RenderedHTMLCommon jp-RenderedHTML jp-mod-trusted jp-OutputArea-output\">\n    <div style=\"\n        width: 24px;\n        height: 24px;\n        background-color: #FED7E5;\n        border: 3px solid #FA4C8C;\n        border-radius: 5px;\n        position: absolute;\">\n    </div>\n    <div>\n        <details style=\"margin-left: 48px;\">\n            <summary style=\"margin-bottom: 20px;\">\n                <h3 style=\"margin-bottom: 0px; display: inline;\">Asset:  Blue </h3>\n            </summary>\n            <table style=\"width: 100%; text-align: left;\">\n                <tr><td style=\"text-align: left;\"><strong>href:</strong> tar+file:///home/data/DATA/PRODS/LANDSATS_COL2/LC08_L1TP_200030_20201220_20210310_02_T1.tar!LC08_L1TP_200030_20201220_20210310_02_T1_B2.TIF </td></tr>\n                \n                    <tr><td style=\"text-align: left;\"><strong>type:</strong> image/tiff; application=geotiff </td></tr>\n                \n                \n                    <tr><td style=\"text-align: left;\"><strong>title:</strong> Blue </td></tr>\n                \n                \n                    <tr><td style=\"text-align: left;\"><strong>description:</strong> Bathymetric mapping, distinguishing soil from vegetation and deciduous from coniferous vegetation </td></tr>\n                \n                \n                    <tr><td style=\"text-align: left;\"><strong>roles:</strong> ['reflectance'] </td></tr>\n                \n                \n                    <tr><td style=\"text-align: left;\"><strong>owner:</strong> 20201220T104856_L8_200030_OLI_TIRS </td></tr>\n                \n                \n        \n            \n                <tr><td style=\"text-align: left;\"><strong>eoreader_name:</strong> BLUE </td></tr>\n            \n        \n            \n                <tr><td style=\"text-align: left;\"><strong>eo:bands:</strong> [{'name': 'Blue', 'common_name': 'blue', 'description': 'Bathymetric mapping, distinguishing soil from vegetation and deciduous from coniferous vegetation', 'center_wavelength': 0.48, 'full_width_half_max': 0.06}] </td></tr>\n            \n        \n            \n                <tr><td style=\"text-align: left;\"><strong>created:</strong> 2023-04-27T07:20:33.043199Z </td></tr>\n            \n        \n            \n                <tr><td style=\"text-align: left;\"><strong>updated:</strong> 2023-04-27T07:20:33.043207Z </td></tr>\n            \n        \n            \n                <tr><td style=\"text-align: left;\"><strong>start_datetime:</strong> 2020-12-20T10:48:56Z </td></tr>\n            \n        \n            \n                <tr><td style=\"text-align: left;\"><strong>end_datetime:</strong> 2020-12-20T10:48:56Z </td></tr>\n            \n        \n            \n                <tr><td style=\"text-align: left;\"><strong>instruments:</strong> ['OLI-TIRS'] </td></tr>\n            \n        \n            \n                <tr><td style=\"text-align: left;\"><strong>constellation:</strong> landsat-8 </td></tr>\n            \n        \n            \n                <tr><td style=\"text-align: left;\"><strong>gsd:</strong> 30 </td></tr>\n            \n        \n    \n            </table>\n        </details>\n    </div>\n</div>\n            \n                \n\n<div class=\"jp-RenderedHTMLCommon jp-RenderedHTML jp-mod-trusted jp-OutputArea-output\">\n    <div style=\"\n        width: 24px;\n        height: 24px;\n        background-color: #FED7E5;\n        border: 3px solid #FA4C8C;\n        border-radius: 5px;\n        position: absolute;\">\n    </div>\n    <div>\n        <details style=\"margin-left: 48px;\">\n            <summary style=\"margin-bottom: 20px;\">\n                <h3 style=\"margin-bottom: 0px; display: inline;\">Asset:  Green </h3>\n            </summary>\n            <table style=\"width: 100%; text-align: left;\">\n                <tr><td style=\"text-align: left;\"><strong>href:</strong> tar+file:///home/data/DATA/PRODS/LANDSATS_COL2/LC08_L1TP_200030_20201220_20210310_02_T1.tar!LC08_L1TP_200030_20201220_20210310_02_T1_B3.TIF </td></tr>\n                \n                    <tr><td style=\"text-align: left;\"><strong>type:</strong> image/tiff; application=geotiff </td></tr>\n                \n                \n                    <tr><td style=\"text-align: left;\"><strong>title:</strong> Green </td></tr>\n                \n                \n                    <tr><td style=\"text-align: left;\"><strong>description:</strong> Emphasizes peak vegetation, which is useful for assessing plant vigor </td></tr>\n                \n                \n                    <tr><td style=\"text-align: left;\"><strong>roles:</strong> ['reflectance'] </td></tr>\n                \n                \n                    <tr><td style=\"text-align: left;\"><strong>owner:</strong> 20201220T104856_L8_200030_OLI_TIRS </td></tr>\n                \n                \n        \n            \n                <tr><td style=\"text-align: left;\"><strong>eoreader_name:</strong> GREEN </td></tr>\n            \n        \n            \n                <tr><td style=\"text-align: left;\"><strong>eo:bands:</strong> [{'name': 'Green', 'common_name': 'green', 'description': 'Emphasizes peak vegetation, which is useful for assessing plant vigor', 'center_wavelength': 0.56, 'full_width_half_max': 0.06}] </td></tr>\n            \n        \n            \n                <tr><td style=\"text-align: left;\"><strong>created:</strong> 2023-04-27T07:20:33.043249Z </td></tr>\n            \n        \n            \n                <tr><td style=\"text-align: left;\"><strong>updated:</strong> 2023-04-27T07:20:33.043256Z </td></tr>\n            \n        \n            \n                <tr><td style=\"text-align: left;\"><strong>start_datetime:</strong> 2020-12-20T10:48:56Z </td></tr>\n            \n        \n            \n                <tr><td style=\"text-align: left;\"><strong>end_datetime:</strong> 2020-12-20T10:48:56Z </td></tr>\n            \n        \n            \n                <tr><td style=\"text-align: left;\"><strong>instruments:</strong> ['OLI-TIRS'] </td></tr>\n            \n        \n            \n                <tr><td style=\"text-align: left;\"><strong>constellation:</strong> landsat-8 </td></tr>\n            \n        \n            \n                <tr><td style=\"text-align: left;\"><strong>gsd:</strong> 30 </td></tr>\n            \n        \n    \n            </table>\n        </details>\n    </div>\n</div>\n            \n                \n\n<div class=\"jp-RenderedHTMLCommon jp-RenderedHTML jp-mod-trusted jp-OutputArea-output\">\n    <div style=\"\n        width: 24px;\n        height: 24px;\n        background-color: #FED7E5;\n        border: 3px solid #FA4C8C;\n        border-radius: 5px;\n        position: absolute;\">\n    </div>\n    <div>\n        <details style=\"margin-left: 48px;\">\n            <summary style=\"margin-bottom: 20px;\">\n                <h3 style=\"margin-bottom: 0px; display: inline;\">Asset:  Red </h3>\n            </summary>\n            <table style=\"width: 100%; text-align: left;\">\n                <tr><td style=\"text-align: left;\"><strong>href:</strong> tar+file:///home/data/DATA/PRODS/LANDSATS_COL2/LC08_L1TP_200030_20201220_20210310_02_T1.tar!LC08_L1TP_200030_20201220_20210310_02_T1_B4.TIF </td></tr>\n                \n                    <tr><td style=\"text-align: left;\"><strong>type:</strong> image/tiff; application=geotiff </td></tr>\n                \n                \n                    <tr><td style=\"text-align: left;\"><strong>title:</strong> Red </td></tr>\n                \n                \n                    <tr><td style=\"text-align: left;\"><strong>description:</strong> Discriminates vegetation slopes </td></tr>\n                \n                \n                    <tr><td style=\"text-align: left;\"><strong>roles:</strong> ['reflectance'] </td></tr>\n                \n                \n                    <tr><td style=\"text-align: left;\"><strong>owner:</strong> 20201220T104856_L8_200030_OLI_TIRS </td></tr>\n                \n                \n        \n            \n                <tr><td style=\"text-align: left;\"><strong>eoreader_name:</strong> RED </td></tr>\n            \n        \n            \n                <tr><td style=\"text-align: left;\"><strong>eo:bands:</strong> [{'name': 'Red', 'common_name': 'red', 'description': 'Discriminates vegetation slopes', 'center_wavelength': 0.655, 'full_width_half_max': 0.03}] </td></tr>\n            \n        \n            \n                <tr><td style=\"text-align: left;\"><strong>created:</strong> 2023-04-27T07:20:33.043295Z </td></tr>\n            \n        \n            \n                <tr><td style=\"text-align: left;\"><strong>updated:</strong> 2023-04-27T07:20:33.043302Z </td></tr>\n            \n        \n            \n                <tr><td style=\"text-align: left;\"><strong>start_datetime:</strong> 2020-12-20T10:48:56Z </td></tr>\n            \n        \n            \n                <tr><td style=\"text-align: left;\"><strong>end_datetime:</strong> 2020-12-20T10:48:56Z </td></tr>\n            \n        \n            \n                <tr><td style=\"text-align: left;\"><strong>instruments:</strong> ['OLI-TIRS'] </td></tr>\n            \n        \n            \n                <tr><td style=\"text-align: left;\"><strong>constellation:</strong> landsat-8 </td></tr>\n            \n        \n            \n                <tr><td style=\"text-align: left;\"><strong>gsd:</strong> 30 </td></tr>\n            \n        \n    \n            </table>\n        </details>\n    </div>\n</div>\n            \n                \n\n<div class=\"jp-RenderedHTMLCommon jp-RenderedHTML jp-mod-trusted jp-OutputArea-output\">\n    <div style=\"\n        width: 24px;\n        height: 24px;\n        background-color: #FED7E5;\n        border: 3px solid #FA4C8C;\n        border-radius: 5px;\n        position: absolute;\">\n    </div>\n    <div>\n        <details style=\"margin-left: 48px;\">\n            <summary style=\"margin-bottom: 20px;\">\n                <h3 style=\"margin-bottom: 0px; display: inline;\">Asset:  Near Infrared (NIR) </h3>\n            </summary>\n            <table style=\"width: 100%; text-align: left;\">\n                <tr><td style=\"text-align: left;\"><strong>href:</strong> tar+file:///home/data/DATA/PRODS/LANDSATS_COL2/LC08_L1TP_200030_20201220_20210310_02_T1.tar!LC08_L1TP_200030_20201220_20210310_02_T1_B5.TIF </td></tr>\n                \n                    <tr><td style=\"text-align: left;\"><strong>type:</strong> image/tiff; application=geotiff </td></tr>\n                \n                \n                    <tr><td style=\"text-align: left;\"><strong>title:</strong> Near Infrared (NIR) </td></tr>\n                \n                \n                    <tr><td style=\"text-align: left;\"><strong>description:</strong> Emphasizes biomass content and shorelines </td></tr>\n                \n                \n                    <tr><td style=\"text-align: left;\"><strong>roles:</strong> ['reflectance'] </td></tr>\n                \n                \n                    <tr><td style=\"text-align: left;\"><strong>owner:</strong> 20201220T104856_L8_200030_OLI_TIRS </td></tr>\n                \n                \n        \n            \n                <tr><td style=\"text-align: left;\"><strong>eoreader_name:</strong> NARROW_NIR </td></tr>\n            \n        \n            \n                <tr><td style=\"text-align: left;\"><strong>eo:bands:</strong> [{'name': 'Near Infrared (NIR)', 'common_name': 'nir08', 'description': 'Emphasizes biomass content and shorelines', 'center_wavelength': 0.865, 'full_width_half_max': 0.03}] </td></tr>\n            \n        \n            \n                <tr><td style=\"text-align: left;\"><strong>created:</strong> 2023-04-27T07:20:33.043384Z </td></tr>\n            \n        \n            \n                <tr><td style=\"text-align: left;\"><strong>updated:</strong> 2023-04-27T07:20:33.043391Z </td></tr>\n            \n        \n            \n                <tr><td style=\"text-align: left;\"><strong>start_datetime:</strong> 2020-12-20T10:48:56Z </td></tr>\n            \n        \n            \n                <tr><td style=\"text-align: left;\"><strong>end_datetime:</strong> 2020-12-20T10:48:56Z </td></tr>\n            \n        \n            \n                <tr><td style=\"text-align: left;\"><strong>instruments:</strong> ['OLI-TIRS'] </td></tr>\n            \n        \n            \n                <tr><td style=\"text-align: left;\"><strong>constellation:</strong> landsat-8 </td></tr>\n            \n        \n            \n                <tr><td style=\"text-align: left;\"><strong>gsd:</strong> 30 </td></tr>\n            \n        \n    \n            </table>\n        </details>\n    </div>\n</div>\n            \n                \n\n<div class=\"jp-RenderedHTMLCommon jp-RenderedHTML jp-mod-trusted jp-OutputArea-output\">\n    <div style=\"\n        width: 24px;\n        height: 24px;\n        background-color: #FED7E5;\n        border: 3px solid #FA4C8C;\n        border-radius: 5px;\n        position: absolute;\">\n    </div>\n    <div>\n        <details style=\"margin-left: 48px;\">\n            <summary style=\"margin-bottom: 20px;\">\n                <h3 style=\"margin-bottom: 0px; display: inline;\">Asset:  Cirrus </h3>\n            </summary>\n            <table style=\"width: 100%; text-align: left;\">\n                <tr><td style=\"text-align: left;\"><strong>href:</strong> tar+file:///home/data/DATA/PRODS/LANDSATS_COL2/LC08_L1TP_200030_20201220_20210310_02_T1.tar!LC08_L1TP_200030_20201220_20210310_02_T1_B9.TIF </td></tr>\n                \n                    <tr><td style=\"text-align: left;\"><strong>type:</strong> image/tiff; application=geotiff </td></tr>\n                \n                \n                    <tr><td style=\"text-align: left;\"><strong>title:</strong> Cirrus </td></tr>\n                \n                \n                    <tr><td style=\"text-align: left;\"><strong>description:</strong> Improved detection of cirrus cloud contamination </td></tr>\n                \n                \n                    <tr><td style=\"text-align: left;\"><strong>roles:</strong> ['reflectance'] </td></tr>\n                \n                \n                    <tr><td style=\"text-align: left;\"><strong>owner:</strong> 20201220T104856_L8_200030_OLI_TIRS </td></tr>\n                \n                \n        \n            \n                <tr><td style=\"text-align: left;\"><strong>eoreader_name:</strong> CIRRUS </td></tr>\n            \n        \n            \n                <tr><td style=\"text-align: left;\"><strong>eo:bands:</strong> [{'name': 'Cirrus', 'common_name': 'cirrus', 'description': 'Improved detection of cirrus cloud contamination', 'center_wavelength': 1.37, 'full_width_half_max': 0.02}] </td></tr>\n            \n        \n            \n                <tr><td style=\"text-align: left;\"><strong>created:</strong> 2023-04-27T07:20:33.043429Z </td></tr>\n            \n        \n            \n                <tr><td style=\"text-align: left;\"><strong>updated:</strong> 2023-04-27T07:20:33.043435Z </td></tr>\n            \n        \n            \n                <tr><td style=\"text-align: left;\"><strong>start_datetime:</strong> 2020-12-20T10:48:56Z </td></tr>\n            \n        \n            \n                <tr><td style=\"text-align: left;\"><strong>end_datetime:</strong> 2020-12-20T10:48:56Z </td></tr>\n            \n        \n            \n                <tr><td style=\"text-align: left;\"><strong>instruments:</strong> ['OLI-TIRS'] </td></tr>\n            \n        \n            \n                <tr><td style=\"text-align: left;\"><strong>constellation:</strong> landsat-8 </td></tr>\n            \n        \n            \n                <tr><td style=\"text-align: left;\"><strong>gsd:</strong> 30 </td></tr>\n            \n        \n    \n            </table>\n        </details>\n    </div>\n</div>\n            \n                \n\n<div class=\"jp-RenderedHTMLCommon jp-RenderedHTML jp-mod-trusted jp-OutputArea-output\">\n    <div style=\"\n        width: 24px;\n        height: 24px;\n        background-color: #FED7E5;\n        border: 3px solid #FA4C8C;\n        border-radius: 5px;\n        position: absolute;\">\n    </div>\n    <div>\n        <details style=\"margin-left: 48px;\">\n            <summary style=\"margin-bottom: 20px;\">\n                <h3 style=\"margin-bottom: 0px; display: inline;\">Asset:  SWIR 1 </h3>\n            </summary>\n            <table style=\"width: 100%; text-align: left;\">\n                <tr><td style=\"text-align: left;\"><strong>href:</strong> tar+file:///home/data/DATA/PRODS/LANDSATS_COL2/LC08_L1TP_200030_20201220_20210310_02_T1.tar!LC08_L1TP_200030_20201220_20210310_02_T1_B6.TIF </td></tr>\n                \n                    <tr><td style=\"text-align: left;\"><strong>type:</strong> image/tiff; application=geotiff </td></tr>\n                \n                \n                    <tr><td style=\"text-align: left;\"><strong>title:</strong> SWIR 1 </td></tr>\n                \n                \n                    <tr><td style=\"text-align: left;\"><strong>description:</strong> Discriminates moisture content of soil and vegetation; penetrates thin clouds </td></tr>\n                \n                \n                    <tr><td style=\"text-align: left;\"><strong>roles:</strong> ['reflectance'] </td></tr>\n                \n                \n                    <tr><td style=\"text-align: left;\"><strong>owner:</strong> 20201220T104856_L8_200030_OLI_TIRS </td></tr>\n                \n                \n        \n            \n                <tr><td style=\"text-align: left;\"><strong>eoreader_name:</strong> SWIR_1 </td></tr>\n            \n        \n            \n                <tr><td style=\"text-align: left;\"><strong>eo:bands:</strong> [{'name': 'SWIR 1', 'common_name': 'swir16', 'description': 'Discriminates moisture content of soil and vegetation; penetrates thin clouds', 'center_wavelength': 1.61, 'full_width_half_max': 0.08}] </td></tr>\n            \n        \n            \n                <tr><td style=\"text-align: left;\"><strong>created:</strong> 2023-04-27T07:20:33.043473Z </td></tr>\n            \n        \n            \n                <tr><td style=\"text-align: left;\"><strong>updated:</strong> 2023-04-27T07:20:33.043480Z </td></tr>\n            \n        \n            \n                <tr><td style=\"text-align: left;\"><strong>start_datetime:</strong> 2020-12-20T10:48:56Z </td></tr>\n            \n        \n            \n                <tr><td style=\"text-align: left;\"><strong>end_datetime:</strong> 2020-12-20T10:48:56Z </td></tr>\n            \n        \n            \n                <tr><td style=\"text-align: left;\"><strong>instruments:</strong> ['OLI-TIRS'] </td></tr>\n            \n        \n            \n                <tr><td style=\"text-align: left;\"><strong>constellation:</strong> landsat-8 </td></tr>\n            \n        \n            \n                <tr><td style=\"text-align: left;\"><strong>gsd:</strong> 30 </td></tr>\n            \n        \n    \n            </table>\n        </details>\n    </div>\n</div>\n            \n                \n\n<div class=\"jp-RenderedHTMLCommon jp-RenderedHTML jp-mod-trusted jp-OutputArea-output\">\n    <div style=\"\n        width: 24px;\n        height: 24px;\n        background-color: #FED7E5;\n        border: 3px solid #FA4C8C;\n        border-radius: 5px;\n        position: absolute;\">\n    </div>\n    <div>\n        <details style=\"margin-left: 48px;\">\n            <summary style=\"margin-bottom: 20px;\">\n                <h3 style=\"margin-bottom: 0px; display: inline;\">Asset:  SWIR 2 </h3>\n            </summary>\n            <table style=\"width: 100%; text-align: left;\">\n                <tr><td style=\"text-align: left;\"><strong>href:</strong> tar+file:///home/data/DATA/PRODS/LANDSATS_COL2/LC08_L1TP_200030_20201220_20210310_02_T1.tar!LC08_L1TP_200030_20201220_20210310_02_T1_B7.TIF </td></tr>\n                \n                    <tr><td style=\"text-align: left;\"><strong>type:</strong> image/tiff; application=geotiff </td></tr>\n                \n                \n                    <tr><td style=\"text-align: left;\"><strong>title:</strong> SWIR 2 </td></tr>\n                \n                \n                    <tr><td style=\"text-align: left;\"><strong>description:</strong> Improved moisture content of soil and vegetation; penetrates thin clouds </td></tr>\n                \n                \n                    <tr><td style=\"text-align: left;\"><strong>roles:</strong> ['reflectance'] </td></tr>\n                \n                \n                    <tr><td style=\"text-align: left;\"><strong>owner:</strong> 20201220T104856_L8_200030_OLI_TIRS </td></tr>\n                \n                \n        \n            \n                <tr><td style=\"text-align: left;\"><strong>eoreader_name:</strong> SWIR_2 </td></tr>\n            \n        \n            \n                <tr><td style=\"text-align: left;\"><strong>eo:bands:</strong> [{'name': 'SWIR 2', 'common_name': 'swir22', 'description': 'Improved moisture content of soil and vegetation; penetrates thin clouds', 'center_wavelength': 2.2, 'full_width_half_max': 0.18}] </td></tr>\n            \n        \n            \n                <tr><td style=\"text-align: left;\"><strong>created:</strong> 2023-04-27T07:20:33.043517Z </td></tr>\n            \n        \n            \n                <tr><td style=\"text-align: left;\"><strong>updated:</strong> 2023-04-27T07:20:33.043525Z </td></tr>\n            \n        \n            \n                <tr><td style=\"text-align: left;\"><strong>start_datetime:</strong> 2020-12-20T10:48:56Z </td></tr>\n            \n        \n            \n                <tr><td style=\"text-align: left;\"><strong>end_datetime:</strong> 2020-12-20T10:48:56Z </td></tr>\n            \n        \n            \n                <tr><td style=\"text-align: left;\"><strong>instruments:</strong> ['OLI-TIRS'] </td></tr>\n            \n        \n            \n                <tr><td style=\"text-align: left;\"><strong>constellation:</strong> landsat-8 </td></tr>\n            \n        \n            \n                <tr><td style=\"text-align: left;\"><strong>gsd:</strong> 30 </td></tr>\n            \n        \n    \n            </table>\n        </details>\n    </div>\n</div>\n            \n                \n\n<div class=\"jp-RenderedHTMLCommon jp-RenderedHTML jp-mod-trusted jp-OutputArea-output\">\n    <div style=\"\n        width: 24px;\n        height: 24px;\n        background-color: #FED7E5;\n        border: 3px solid #FA4C8C;\n        border-radius: 5px;\n        position: absolute;\">\n    </div>\n    <div>\n        <details style=\"margin-left: 48px;\">\n            <summary style=\"margin-bottom: 20px;\">\n                <h3 style=\"margin-bottom: 0px; display: inline;\">Asset:  Thermal Infrared (TIRS) 1 </h3>\n            </summary>\n            <table style=\"width: 100%; text-align: left;\">\n                <tr><td style=\"text-align: left;\"><strong>href:</strong> tar+file:///home/data/DATA/PRODS/LANDSATS_COL2/LC08_L1TP_200030_20201220_20210310_02_T1.tar!LC08_L1TP_200030_20201220_20210310_02_T1_B10.TIF </td></tr>\n                \n                    <tr><td style=\"text-align: left;\"><strong>type:</strong> image/tiff; application=geotiff </td></tr>\n                \n                \n                    <tr><td style=\"text-align: left;\"><strong>title:</strong> Thermal Infrared (TIRS) 1 </td></tr>\n                \n                \n                    <tr><td style=\"text-align: left;\"><strong>description:</strong> 100 meter resolution, thermal mapping and estimated soil moisture </td></tr>\n                \n                \n                    <tr><td style=\"text-align: left;\"><strong>roles:</strong> ['brightness_temperature'] </td></tr>\n                \n                \n                    <tr><td style=\"text-align: left;\"><strong>owner:</strong> 20201220T104856_L8_200030_OLI_TIRS </td></tr>\n                \n                \n        \n            \n                <tr><td style=\"text-align: left;\"><strong>eoreader_name:</strong> THERMAL_IR_1 </td></tr>\n            \n        \n            \n                <tr><td style=\"text-align: left;\"><strong>eo:bands:</strong> [{'name': 'Thermal Infrared (TIRS) 1', 'common_name': 'lwir11', 'description': '100 meter resolution, thermal mapping and estimated soil moisture', 'center_wavelength': 10.895, 'full_width_half_max': 0.59}] </td></tr>\n            \n        \n            \n                <tr><td style=\"text-align: left;\"><strong>created:</strong> 2023-04-27T07:20:33.043563Z </td></tr>\n            \n        \n            \n                <tr><td style=\"text-align: left;\"><strong>updated:</strong> 2023-04-27T07:20:33.043570Z </td></tr>\n            \n        \n            \n                <tr><td style=\"text-align: left;\"><strong>start_datetime:</strong> 2020-12-20T10:48:56Z </td></tr>\n            \n        \n            \n                <tr><td style=\"text-align: left;\"><strong>end_datetime:</strong> 2020-12-20T10:48:56Z </td></tr>\n            \n        \n            \n                <tr><td style=\"text-align: left;\"><strong>instruments:</strong> ['OLI-TIRS'] </td></tr>\n            \n        \n            \n                <tr><td style=\"text-align: left;\"><strong>constellation:</strong> landsat-8 </td></tr>\n            \n        \n            \n                <tr><td style=\"text-align: left;\"><strong>gsd:</strong> 100 </td></tr>\n            \n        \n    \n            </table>\n        </details>\n    </div>\n</div>\n            \n                \n\n<div class=\"jp-RenderedHTMLCommon jp-RenderedHTML jp-mod-trusted jp-OutputArea-output\">\n    <div style=\"\n        width: 24px;\n        height: 24px;\n        background-color: #FED7E5;\n        border: 3px solid #FA4C8C;\n        border-radius: 5px;\n        position: absolute;\">\n    </div>\n    <div>\n        <details style=\"margin-left: 48px;\">\n            <summary style=\"margin-bottom: 20px;\">\n                <h3 style=\"margin-bottom: 0px; display: inline;\">Asset:  Thermal Infrared (TIRS) 2 </h3>\n            </summary>\n            <table style=\"width: 100%; text-align: left;\">\n                <tr><td style=\"text-align: left;\"><strong>href:</strong> tar+file:///home/data/DATA/PRODS/LANDSATS_COL2/LC08_L1TP_200030_20201220_20210310_02_T1.tar!LC08_L1TP_200030_20201220_20210310_02_T1_B11.TIF </td></tr>\n                \n                    <tr><td style=\"text-align: left;\"><strong>type:</strong> image/tiff; application=geotiff </td></tr>\n                \n                \n                    <tr><td style=\"text-align: left;\"><strong>title:</strong> Thermal Infrared (TIRS) 2 </td></tr>\n                \n                \n                    <tr><td style=\"text-align: left;\"><strong>description:</strong> 100 meter resolution, improved thermal mapping and estimated soil moisture </td></tr>\n                \n                \n                    <tr><td style=\"text-align: left;\"><strong>roles:</strong> ['brightness_temperature'] </td></tr>\n                \n                \n                    <tr><td style=\"text-align: left;\"><strong>owner:</strong> 20201220T104856_L8_200030_OLI_TIRS </td></tr>\n                \n                \n        \n            \n                <tr><td style=\"text-align: left;\"><strong>eoreader_name:</strong> THERMAL_IR_2 </td></tr>\n            \n        \n            \n                <tr><td style=\"text-align: left;\"><strong>eo:bands:</strong> [{'name': 'Thermal Infrared (TIRS) 2', 'common_name': 'lwir12', 'description': '100 meter resolution, improved thermal mapping and estimated soil moisture', 'center_wavelength': 12.005, 'full_width_half_max': 1.01}] </td></tr>\n            \n        \n            \n                <tr><td style=\"text-align: left;\"><strong>created:</strong> 2023-04-27T07:20:33.043608Z </td></tr>\n            \n        \n            \n                <tr><td style=\"text-align: left;\"><strong>updated:</strong> 2023-04-27T07:20:33.043615Z </td></tr>\n            \n        \n            \n                <tr><td style=\"text-align: left;\"><strong>start_datetime:</strong> 2020-12-20T10:48:56Z </td></tr>\n            \n        \n            \n                <tr><td style=\"text-align: left;\"><strong>end_datetime:</strong> 2020-12-20T10:48:56Z </td></tr>\n            \n        \n            \n                <tr><td style=\"text-align: left;\"><strong>instruments:</strong> ['OLI-TIRS'] </td></tr>\n            \n        \n            \n                <tr><td style=\"text-align: left;\"><strong>constellation:</strong> landsat-8 </td></tr>\n            \n        \n            \n                <tr><td style=\"text-align: left;\"><strong>gsd:</strong> 100 </td></tr>\n            \n        \n    \n            </table>\n        </details>\n    </div>\n</div>\n            \n                \n\n<div class=\"jp-RenderedHTMLCommon jp-RenderedHTML jp-mod-trusted jp-OutputArea-output\">\n    <div style=\"\n        width: 24px;\n        height: 24px;\n        background-color: #FED7E5;\n        border: 3px solid #FA4C8C;\n        border-radius: 5px;\n        position: absolute;\">\n    </div>\n    <div>\n        <details style=\"margin-left: 48px;\">\n            <summary style=\"margin-bottom: 20px;\">\n                <h3 style=\"margin-bottom: 0px; display: inline;\">Asset:  Panchromatic </h3>\n            </summary>\n            <table style=\"width: 100%; text-align: left;\">\n                <tr><td style=\"text-align: left;\"><strong>href:</strong> tar+file:///home/data/DATA/PRODS/LANDSATS_COL2/LC08_L1TP_200030_20201220_20210310_02_T1.tar!LC08_L1TP_200030_20201220_20210310_02_T1_B8.TIF </td></tr>\n                \n                    <tr><td style=\"text-align: left;\"><strong>type:</strong> image/tiff; application=geotiff </td></tr>\n                \n                \n                    <tr><td style=\"text-align: left;\"><strong>title:</strong> Panchromatic </td></tr>\n                \n                \n                    <tr><td style=\"text-align: left;\"><strong>description:</strong> 15 meter resolution, sharper image definition </td></tr>\n                \n                \n                    <tr><td style=\"text-align: left;\"><strong>roles:</strong> ['reflectance'] </td></tr>\n                \n                \n                    <tr><td style=\"text-align: left;\"><strong>owner:</strong> 20201220T104856_L8_200030_OLI_TIRS </td></tr>\n                \n                \n        \n            \n                <tr><td style=\"text-align: left;\"><strong>eoreader_name:</strong> PANCHROMATIC </td></tr>\n            \n        \n            \n                <tr><td style=\"text-align: left;\"><strong>eo:bands:</strong> [{'name': 'Panchromatic', 'common_name': 'pan', 'description': '15 meter resolution, sharper image definition', 'center_wavelength': 0.59, 'full_width_half_max': 0.18}] </td></tr>\n            \n        \n            \n                <tr><td style=\"text-align: left;\"><strong>created:</strong> 2023-04-27T07:20:33.043652Z </td></tr>\n            \n        \n            \n                <tr><td style=\"text-align: left;\"><strong>updated:</strong> 2023-04-27T07:20:33.043658Z </td></tr>\n            \n        \n            \n                <tr><td style=\"text-align: left;\"><strong>start_datetime:</strong> 2020-12-20T10:48:56Z </td></tr>\n            \n        \n            \n                <tr><td style=\"text-align: left;\"><strong>end_datetime:</strong> 2020-12-20T10:48:56Z </td></tr>\n            \n        \n            \n                <tr><td style=\"text-align: left;\"><strong>instruments:</strong> ['OLI-TIRS'] </td></tr>\n            \n        \n            \n                <tr><td style=\"text-align: left;\"><strong>constellation:</strong> landsat-8 </td></tr>\n            \n        \n            \n                <tr><td style=\"text-align: left;\"><strong>gsd:</strong> 30 </td></tr>\n            \n        \n    \n            </table>\n        </details>\n    </div>\n</div>\n            \n        </details>\n    \n            \n        <details>\n            <summary style=\"margin-bottom: 10px; margin-top: 10px\">\n                <h4 style=\"margin-bottom: 0px; display: inline;\">Links</h4>\n            </summary>\n            \n                \n\n<div class=\"jp-RenderedHTMLCommon jp-RenderedHTML jp-mod-trusted jp-OutputArea-output\">\n    <div style=\"\n        width: 24px;\n        height: 24px;\n        background-color: #FFF7E5;\n        border: 3px solid #FF6132;\n        border-radius: 5px;\n        position: absolute;\">\n    </div>\n    <div style=\"margin-left: 48px;\">\n        <h4 style=\"margin-bottom: 0px;\">Link:  SERTIT Catalog </h4>\n        <table style=\"width: 100%; text-align: left;\">\n            <tr><td style=\"text-align: left;\"><strong>rel:</strong> root </td></tr>\n            <tr><td style=\"text-align: left;\"><strong>href:</strong> /tmp/tmp5lbjs797/catalog.json </td></tr>\n            \n                <tr><td style=\"text-align: left;\"><strong>type:</strong> application/json </td></tr>\n            \n            \n                <tr><td style=\"text-align: left;\"><strong>title:</strong> SERTIT Catalog </td></tr>\n            \n            \n        </table>\n        \n    </div>\n</div>\n            \n                \n\n<div class=\"jp-RenderedHTMLCommon jp-RenderedHTML jp-mod-trusted jp-OutputArea-output\">\n    <div style=\"\n        width: 24px;\n        height: 24px;\n        background-color: #FFF7E5;\n        border: 3px solid #FF6132;\n        border-radius: 5px;\n        position: absolute;\">\n    </div>\n    <div style=\"margin-left: 48px;\">\n        <h4 style=\"margin-bottom: 0px;\">Link: </h4>\n        <table style=\"width: 100%; text-align: left;\">\n            <tr><td style=\"text-align: left;\"><strong>rel:</strong> self </td></tr>\n            <tr><td style=\"text-align: left;\"><strong>href:</strong> /tmp/tmp5lbjs797/20201220T104856_L8_200030_OLI_TIRS/20201220T104856_L8_200030_OLI_TIRS.json </td></tr>\n            \n                <tr><td style=\"text-align: left;\"><strong>type:</strong> application/json </td></tr>\n            \n            \n            \n        </table>\n        \n    </div>\n</div>\n            \n                \n\n<div class=\"jp-RenderedHTMLCommon jp-RenderedHTML jp-mod-trusted jp-OutputArea-output\">\n    <div style=\"\n        width: 24px;\n        height: 24px;\n        background-color: #FFF7E5;\n        border: 3px solid #FF6132;\n        border-radius: 5px;\n        position: absolute;\">\n    </div>\n    <div style=\"margin-left: 48px;\">\n        <h4 style=\"margin-bottom: 0px;\">Link:  SERTIT Catalog </h4>\n        <table style=\"width: 100%; text-align: left;\">\n            <tr><td style=\"text-align: left;\"><strong>rel:</strong> parent </td></tr>\n            <tr><td style=\"text-align: left;\"><strong>href:</strong> /tmp/tmp5lbjs797/catalog.json </td></tr>\n            \n                <tr><td style=\"text-align: left;\"><strong>type:</strong> application/json </td></tr>\n            \n            \n                <tr><td style=\"text-align: left;\"><strong>title:</strong> SERTIT Catalog </td></tr>\n            \n            \n        </table>\n        \n    </div>\n</div>\n            \n        </details>\n    \n        </details>\n    </div>\n</div>"
     },
     "execution_count": 19,
     "metadata": {},
     "output_type": "execute_result"
    }
   ],
   "source": [
    "list(catalog.get_items())[0]"
   ],
   "metadata": {
    "collapsed": false,
    "ExecuteTime": {
     "start_time": "2023-04-27T09:27:19.737506Z",
     "end_time": "2023-04-27T09:27:19.744506Z"
    }
   }
  },
  {
   "cell_type": "markdown",
   "id": "82087c67",
   "metadata": {},
   "source": [
    "# Query the catalog\n",
    "\n",
    "`EODAG` is an opensource python library that implements STAC and allows you to query your local STAC catalog.  \n",
    "Look at [here](https://eodag.readthedocs.io/en/stable/notebooks/tutos/tuto_stac_client.html) for a detailed tutorial."
   ]
  },
  {
   "cell_type": "code",
   "execution_count": null,
   "id": "06c820bf",
   "metadata": {
    "scrolled": true
   },
   "outputs": [],
   "source": [
    "# Create an EODAG custom STAC provider\n",
    "dag = EODataAccessGateway()\n",
    "\n",
    "# Set EODAG logging level to WARNING\n",
    "setup_logging(verbose=1)\n",
    "\n",
    "# Add the custom STAC provider, exactly like in the tutorial mentioned above\n",
    "dag.update_providers_config(\"\"\"\n",
    "stac_http_provider:\n",
    "    search:\n",
    "        type: StaticStacSearch\n",
    "        api_endpoint: %s\n",
    "    products:\n",
    "        GENERIC_PRODUCT_TYPE:\n",
    "            productType: '{productType}'\n",
    "    download:\n",
    "        type: HTTPDownload\n",
    "        base_uri: %s\n",
    "        flatten_top_dirs: True\n",
    "        outputs_prefix: %s\n",
    "\"\"\" % (catalog_path, tmp.name, tmp.name))\n",
    "\n",
    "# Set the custom STAC provider as preferred\n",
    "dag.set_preferred_provider(\"stac_http_provider\")"
   ]
  },
  {
   "cell_type": "code",
   "execution_count": null,
   "id": "eba4756e",
   "metadata": {
    "scrolled": true
   },
   "outputs": [],
   "source": [
    "# Query every product from inside the catalog\n",
    "all_products, _ = dag.search()"
   ]
  },
  {
   "cell_type": "code",
   "execution_count": null,
   "id": "7160fd0e",
   "metadata": {
    "scrolled": false
   },
   "outputs": [],
   "source": [
    "# Load an AOI\n",
    "aoi_path = os.path.join(\"/home\", \"data\", \"DATA\", \"AOIs\", \"DAX.geojson\")\n",
    "aoi = gpd.read_file(aoi_path)\n",
    "aoi_geojson = mapping(aoi.geometry.values[0])\n",
    "\n",
    "# Query spatially with the AOI and temporally with a time period\n",
    "query_args = {\"start\": \"2020-05-01\", \"end\": \"2022-05-06\", \"geom\": aoi.geometry.values[0]}\n",
    "query_products, _ = dag.search(**query_args)"
   ]
  },
  {
   "cell_type": "code",
   "execution_count": null,
   "id": "b2ff187f",
   "metadata": {},
   "outputs": [],
   "source": [
    "query_products[0]"
   ]
  },
  {
   "cell_type": "code",
   "execution_count": null,
   "id": "4e52cc30",
   "metadata": {
    "scrolled": true
   },
   "outputs": [],
   "source": [
    "query_products[0].assets['Blue']"
   ]
  },
  {
   "cell_type": "markdown",
   "id": "dfa163fc",
   "metadata": {},
   "source": [
    "## Display the results\n",
    "\n",
    "We can use `folium` to display the results geometry over a map."
   ]
  },
  {
   "cell_type": "code",
   "execution_count": null,
   "id": "280fef1d",
   "metadata": {
    "scrolled": false
   },
   "outputs": [],
   "source": [
    "import folium\n",
    "\n",
    "# Create a map zoomed over the search area\n",
    "fmap = folium.Map((43.2, -1.05), zoom_start=7)\n",
    "\n",
    "# Add a layer green layer for the query over the AOI\n",
    "folium.GeoJson(\n",
    "    data=all_products.as_geojson_object(),\n",
    "    tooltip = \"All products stored in the catalog\",\n",
    "    style_function=lambda x: {'color': 'green'}\n",
    ").add_to(fmap)\n",
    "\n",
    "# Add a layer green layer for the query over the AOI\n",
    "folium.GeoJson(\n",
    "    data=query_products.as_geojson_object(),\n",
    "    tooltip = \"Retrieved products with the query\",\n",
    "    style_function=lambda x: {'color': 'red'}\n",
    ").add_to(fmap)\n",
    "\n",
    "# Add a layer blue layer for the AOI\n",
    "folium.GeoJson(\n",
    "    data=aoi_geojson,\n",
    "    tooltip = \"DAX AOI\",\n",
    "    style_function=lambda x: {'color': 'blue'}\n",
    ").add_to(fmap)\n",
    "\n",
    "fmap"
   ]
  },
  {
   "cell_type": "code",
   "execution_count": null,
   "id": "6f11e5ea",
   "metadata": {
    "scrolled": true
   },
   "outputs": [],
   "source": [
    "# Clean the tmp directory\n",
    "tmp.cleanup()\n"
   ]
  }
 ],
 "metadata": {
  "kernelspec": {
   "display_name": "Python 3 (ipykernel)",
   "language": "python",
   "name": "python3"
  },
  "language_info": {
   "codemirror_mode": {
    "name": "ipython",
    "version": 3
   },
   "file_extension": ".py",
   "mimetype": "text/x-python",
   "name": "python",
   "nbconvert_exporter": "python",
   "pygments_lexer": "ipython3",
   "version": "3.10.8"
  }
 },
 "nbformat": 4,
 "nbformat_minor": 5
}
